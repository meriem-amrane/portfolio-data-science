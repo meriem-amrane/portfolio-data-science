{
 "cells": [
  {
   "cell_type": "markdown",
   "metadata": {},
   "source": [
    "### This notebook loads the raw data files, checks their structure, and performs initial setup for the rest of the project."
   ]
  },
  {
   "cell_type": "code",
   "execution_count": 1,
   "metadata": {},
   "outputs": [],
   "source": [
    "import numpy as np\n",
    "import pandas as pd\n",
    "import os\n"
   ]
  },
  {
   "cell_type": "markdown",
   "metadata": {},
   "source": [
    "### Load Row Data"
   ]
  },
  {
   "cell_type": "code",
   "execution_count": 28,
   "metadata": {},
   "outputs": [],
   "source": [
    "df= pd.read_csv('../data/olist_dataset.csv')\n",
    "orders = pd.read_csv('..\\data\\olist_orders_dataset.csv')\n",
    "customers = pd.read_csv(\"../data/olist_customers_dataset.csv\")\n",
    "product = pd.read_csv('..\\data\\product_category_name_translation.csv')"
   ]
  },
  {
   "cell_type": "markdown",
   "metadata": {},
   "source": [
    "### Create the data quality function"
   ]
  },
  {
   "cell_type": "code",
   "execution_count": 14,
   "metadata": {},
   "outputs": [],
   "source": [
    "def check_data_quality(df):\n",
    "    print(\"=== DATA QUALITY REPORT ===\")\n",
    "    \n",
    "    # 1. Missing Values Analysis\n",
    "    print(\"\\n1. MISSING VALUES ANALYSIS:\")\n",
    "    missing_values = df.isnull().sum()\n",
    "    missing_percentage = (missing_values / len(df)) * 100\n",
    "    missing_info = pd.DataFrame({\n",
    "        'Missing Values': missing_values,\n",
    "        'Percentage': missing_percentage\n",
    "    })\n",
    "    print(missing_info[missing_info['Missing Values'] > 0].sort_values('Missing Values', ascending=False))\n",
    "    \n",
    "    # 2. Data Types\n",
    "    print(\"\\n2. DATA TYPES:\")\n",
    "    print(df.dtypes)\n",
    "    \n",
    "    # 3. Duplicate Check\n",
    "    print(\"\\n3. DUPLICATE CHECK:\")\n",
    "    duplicates = df.duplicated().sum()\n",
    "    print(f\"Number of duplicate rows: {duplicates}\")\n",
    "    \n",
    "    # 4. Basic Statistics for Numerical Columns\n",
    "    print(\"\\n4. BASIC STATISTICS FOR NUMERICAL COLUMNS:\")\n",
    "    print(df.describe())\n",
    "    \n",
    "    # 5. Unique Values Count\n",
    "    print(\"\\n5. UNIQUE VALUES COUNT:\")\n",
    "    unique_counts = df.nunique()\n",
    "    print(unique_counts)\n",
    "     # 6. Memory Usage\n",
    "    print(\"\\n6. MEMORY USAGE:\")\n",
    "    print(f\"Total memory usage: {df.memory_usage(deep=True).sum() / 1024**2:.2f} MB\")\n",
    "    \n",
    "    return missing_info, unique_counts\n",
    "\n",
    "    "
   ]
  },
  {
   "cell_type": "markdown",
   "metadata": {},
   "source": [
    "### Check data quality for each DataFrame\n"
   ]
  },
  {
   "cell_type": "code",
   "execution_count": 24,
   "metadata": {},
   "outputs": [
    {
     "name": "stdout",
     "output_type": "stream",
     "text": [
      "=== DATA QUALITY REPORT ===\n",
      "\n",
      "1. MISSING VALUES ANALYSIS:\n",
      "                               Missing Values  Percentage\n",
      "order_delivered_customer_date            2965    2.981668\n",
      "order_delivered_carrier_date             1783    1.793023\n",
      "order_approved_at                         160    0.160899\n",
      "\n",
      "2. DATA TYPES:\n",
      "order_id                         object\n",
      "customer_id                      object\n",
      "order_status                     object\n",
      "order_purchase_timestamp         object\n",
      "order_approved_at                object\n",
      "order_delivered_carrier_date     object\n",
      "order_delivered_customer_date    object\n",
      "order_estimated_delivery_date    object\n",
      "dtype: object\n",
      "\n",
      "3. DUPLICATE CHECK:\n",
      "Number of duplicate rows: 0\n",
      "\n",
      "4. BASIC STATISTICS FOR NUMERICAL COLUMNS:\n",
      "                                order_id                       customer_id  \\\n",
      "count                              99441                             99441   \n",
      "unique                             99441                             99441   \n",
      "top     e481f51cbdc54678b7cc49136f2d6af7  9ef432eb6251297304e76186b10a928d   \n",
      "freq                                   1                                 1   \n",
      "\n",
      "       order_status order_purchase_timestamp    order_approved_at  \\\n",
      "count         99441                    99441                99281   \n",
      "unique            8                    98875                90733   \n",
      "top       delivered      2018-04-11 10:48:14  2018-02-27 04:31:10   \n",
      "freq          96478                        3                    9   \n",
      "\n",
      "       order_delivered_carrier_date order_delivered_customer_date  \\\n",
      "count                         97658                         96476   \n",
      "unique                        81018                         95664   \n",
      "top             2018-05-09 15:48:00           2018-05-08 23:38:46   \n",
      "freq                             47                             3   \n",
      "\n",
      "       order_estimated_delivery_date  \n",
      "count                          99441  \n",
      "unique                           459  \n",
      "top              2017-12-20 00:00:00  \n",
      "freq                             522  \n",
      "\n",
      "5. UNIQUE VALUES COUNT:\n",
      "order_id                         99441\n",
      "customer_id                      99441\n",
      "order_status                         8\n",
      "order_purchase_timestamp         98875\n",
      "order_approved_at                90733\n",
      "order_delivered_carrier_date     81018\n",
      "order_delivered_customer_date    95664\n",
      "order_estimated_delivery_date      459\n",
      "dtype: int64\n",
      "\n",
      "6. MEMORY USAGE:\n",
      "Total memory usage: 58.97 MB\n"
     ]
    },
    {
     "data": {
      "text/plain": [
       "(                               Missing Values  Percentage\n",
       " order_id                                    0    0.000000\n",
       " customer_id                                 0    0.000000\n",
       " order_status                                0    0.000000\n",
       " order_purchase_timestamp                    0    0.000000\n",
       " order_approved_at                         160    0.160899\n",
       " order_delivered_carrier_date             1783    1.793023\n",
       " order_delivered_customer_date            2965    2.981668\n",
       " order_estimated_delivery_date               0    0.000000,\n",
       " order_id                         99441\n",
       " customer_id                      99441\n",
       " order_status                         8\n",
       " order_purchase_timestamp         98875\n",
       " order_approved_at                90733\n",
       " order_delivered_carrier_date     81018\n",
       " order_delivered_customer_date    95664\n",
       " order_estimated_delivery_date      459\n",
       " dtype: int64)"
      ]
     },
     "execution_count": 24,
     "metadata": {},
     "output_type": "execute_result"
    }
   ],
   "source": [
    "check_data_quality(orders)"
   ]
  },
  {
   "cell_type": "code",
   "execution_count": 27,
   "metadata": {},
   "outputs": [
    {
     "name": "stdout",
     "output_type": "stream",
     "text": [
      "=== DATA QUALITY REPORT ===\n",
      "\n",
      "1. MISSING VALUES ANALYSIS:\n",
      "Empty DataFrame\n",
      "Columns: [Missing Values, Percentage]\n",
      "Index: []\n",
      "\n",
      "2. DATA TYPES:\n",
      "product_category_name            object\n",
      "product_category_name_english    object\n",
      "dtype: object\n",
      "\n",
      "3. DUPLICATE CHECK:\n",
      "Number of duplicate rows: 0\n",
      "\n",
      "4. BASIC STATISTICS FOR NUMERICAL COLUMNS:\n",
      "       product_category_name product_category_name_english\n",
      "count                     71                            71\n",
      "unique                    71                            71\n",
      "top             beleza_saude                 health_beauty\n",
      "freq                       1                             1\n",
      "\n",
      "5. UNIQUE VALUES COUNT:\n",
      "product_category_name            71\n",
      "product_category_name_english    71\n",
      "dtype: int64\n",
      "\n",
      "6. MEMORY USAGE:\n",
      "Total memory usage: 0.01 MB\n"
     ]
    },
    {
     "data": {
      "text/plain": [
       "(                               Missing Values  Percentage\n",
       " product_category_name                       0         0.0\n",
       " product_category_name_english               0         0.0,\n",
       " product_category_name            71\n",
       " product_category_name_english    71\n",
       " dtype: int64)"
      ]
     },
     "execution_count": 27,
     "metadata": {},
     "output_type": "execute_result"
    }
   ],
   "source": [
    "check_data_quality(product)"
   ]
  },
  {
   "cell_type": "code",
   "execution_count": 21,
   "metadata": {},
   "outputs": [
    {
     "name": "stdout",
     "output_type": "stream",
     "text": [
      "=== DATA QUALITY REPORT ===\n",
      "\n",
      "1. MISSING VALUES ANALYSIS:\n",
      "Empty DataFrame\n",
      "Columns: [Missing Values, Percentage]\n",
      "Index: []\n",
      "\n",
      "2. DATA TYPES:\n",
      "customer_id                 object\n",
      "customer_unique_id          object\n",
      "customer_zip_code_prefix     int64\n",
      "customer_city               object\n",
      "customer_state              object\n",
      "dtype: object\n",
      "\n",
      "3. DUPLICATE CHECK:\n",
      "Number of duplicate rows: 0\n",
      "\n",
      "4. BASIC STATISTICS FOR NUMERICAL COLUMNS:\n",
      "       customer_zip_code_prefix\n",
      "count              99441.000000\n",
      "mean               35137.474583\n",
      "std                29797.938996\n",
      "min                 1003.000000\n",
      "25%                11347.000000\n",
      "50%                24416.000000\n",
      "75%                58900.000000\n",
      "max                99990.000000\n",
      "\n",
      "5. UNIQUE VALUES COUNT:\n",
      "customer_id                 99441\n",
      "customer_unique_id          96096\n",
      "customer_zip_code_prefix    14994\n",
      "customer_city                4119\n",
      "customer_state                 27\n",
      "dtype: int64\n",
      "\n",
      "6. MEMORY USAGE:\n",
      "Total memory usage: 29.62 MB\n"
     ]
    },
    {
     "data": {
      "text/plain": [
       "(                          Missing Values  Percentage\n",
       " customer_id                            0         0.0\n",
       " customer_unique_id                     0         0.0\n",
       " customer_zip_code_prefix               0         0.0\n",
       " customer_city                          0         0.0\n",
       " customer_state                         0         0.0,\n",
       " customer_id                 99441\n",
       " customer_unique_id          96096\n",
       " customer_zip_code_prefix    14994\n",
       " customer_city                4119\n",
       " customer_state                 27\n",
       " dtype: int64)"
      ]
     },
     "execution_count": 21,
     "metadata": {},
     "output_type": "execute_result"
    }
   ],
   "source": [
    "check_data_quality(customers)"
   ]
  },
  {
   "cell_type": "code",
   "execution_count": null,
   "metadata": {},
   "outputs": [],
   "source": []
  }
 ],
 "metadata": {
  "kernelspec": {
   "display_name": "Python 3",
   "language": "python",
   "name": "python3"
  },
  "language_info": {
   "codemirror_mode": {
    "name": "ipython",
    "version": 3
   },
   "file_extension": ".py",
   "mimetype": "text/x-python",
   "name": "python",
   "nbconvert_exporter": "python",
   "pygments_lexer": "ipython3",
   "version": "3.10.11"
  }
 },
 "nbformat": 4,
 "nbformat_minor": 2
}
